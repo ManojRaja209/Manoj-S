{
 "cells": [
  {
   "cell_type": "code",
   "execution_count": 1,
   "id": "b4c78516",
   "metadata": {},
   "outputs": [],
   "source": [
    "import cv2\n",
    "\n",
    "# Load the video file or use 0 for webcam\n",
    "cap = cv2.VideoCapture('your_video.mp4')  # Replace with 0 to use webcam\n",
    "\n",
    "# Read the first frame\n",
    "ret, frame1 = cap.read()\n",
    "frame1_gray = cv2.cvtColor(frame1, cv2.COLOR_BGR2GRAY)\n",
    "frame1_gray = cv2.GaussianBlur(frame1_gray, (21, 21), 0)\n",
    "\n",
    "while True:\n",
    "    ret, frame2 = cap.read()\n",
    "    if not ret:\n",
    "        break\n",
    "\n",
    "    frame2_gray = cv2.cvtColor(frame2, cv2.COLOR_BGR2GRAY)\n",
    "    frame2_gray = cv2.GaussianBlur(frame2_gray, (21, 21), 0)\n",
    "\n",
    "    # Compute the absolute difference between current frame and previous frame\n",
    "    diff = cv2.absdiff(frame1_gray, frame2_gray)\n",
    "    thresh = cv2.threshold(diff, 25, 255, cv2.THRESH_BINARY)[1]\n",
    "\n",
    "    # Dilate the threshold image to fill in holes\n",
    "    thresh = cv2.dilate(thresh, None, iterations=2)\n",
    "\n",
    "    # Find contours on thresholded image\n",
    "    contours, _ = cv2.findContours(thresh.copy(), cv2.RETR_EXTERNAL, cv2.CHAIN_APPROX_SIMPLE)\n",
    "    for contour in contours:\n",
    "        if cv2.contourArea(contour) < 500:  # Filter small movements\n",
    "            continue\n",
    "        (x, y, w, h) = cv2.boundingRect(contour)\n",
    "        cv2.rectangle(frame2, (x, y), (x + w, y + h), (0, 255, 0), 2)\n",
    "\n",
    "    cv2.imshow(\"Motion Detection\", frame2)\n",
    "\n",
    "    # Exit on pressing 'q'\n",
    "    if cv2.waitKey(30) & 0xFF == ord('q'):\n",
    "        break\n",
    "\n",
    "    frame1_gray = frame2_gray.copy()\n",
    "\n",
    "cap.release()\n",
    "cv2.destroyAllWindows()"
   ]
  }
 ],
 "metadata": {
  "kernelspec": {
   "display_name": "Python 3",
   "language": "python",
   "name": "python3"
  },
  "language_info": {
   "codemirror_mode": {
    "name": "ipython",
    "version": 3
   },
   "file_extension": ".py",
   "mimetype": "text/x-python",
   "name": "python",
   "nbconvert_exporter": "python",
   "pygments_lexer": "ipython3",
   "version": "3.13.3"
  }
 },
 "nbformat": 4,
 "nbformat_minor": 5
}
